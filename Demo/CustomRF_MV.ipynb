{
 "cells": [
  {
   "cell_type": "code",
   "execution_count": 1,
   "metadata": {},
   "outputs": [],
   "source": [
    "import requests\n",
    "import json\n",
    "\n",
    "import pandas as pd\n",
    "from pandas.tseries.frequencies import to_offset\n",
    "\n",
    "import numpy as np\n",
    "\n",
    "import matplotlib.pyplot as plt\n",
    "import plotly.graph_objects as go\n",
    "import seaborn as sns\n",
    "import math\n",
    "\n",
    "from sklearn.preprocessing import MinMaxScaler\n",
    "\n",
    "from tensorflow import keras\n",
    "from keras.models import Sequential\n",
    "from keras.layers import Dense\n",
    "from keras.layers import LSTM\n",
    "from keras.layers import Dropout\n",
    "from keras.callbacks import EarlyStopping\n",
    "\n",
    "import time\n",
    "import datetime\n",
    "from sklearn.metrics import mean_squared_error, mean_absolute_error, explained_variance_score, r2_score \n",
    "from sklearn.metrics import mean_poisson_deviance, mean_gamma_deviance, accuracy_score\n",
    "from sklearn.metrics import mean_absolute_percentage_error\n",
    "\n",
    "from sklearn.ensemble import ExtraTreesClassifier\n",
    "# from sklearn.ensemble import RandomForestRegressor\n",
    "from sklearn.neural_network import MLPRegressor\n",
    "# from sklearn.tree import DecisionTreeRegressor\n",
    "import warnings\n",
    "warnings.filterwarnings('ignore')"
   ]
  },
  {
   "cell_type": "code",
   "execution_count": 2,
   "metadata": {},
   "outputs": [
    {
     "name": "stdout",
     "output_type": "stream",
     "text": [
      "len(data) 1727\n"
     ]
    }
   ],
   "source": [
    "segment_size = 100\n",
    "\n",
    "# 1727 rows\n",
    "data = pd.read_csv('../Dataset/STB.csv')\n",
    "\n",
    "# Calculate the number of segments in the dataset\n",
    "print(\"len(data)\", len(data))\n",
    "num_segments = int(len(data)/segment_size)\n",
    "# Đọc vào tập dữ liệu bị phân mảnh ngang\n",
    "data_chunks = []\n",
    "for i in range(num_segments):\n",
    "    chunk = pd.read_csv(f'../Dataset/STB.csv')\n",
    "    data_chunks.append(chunk)\n",
    "data = pd.concat(data_chunks, ignore_index=True)\n",
    "data['date'] = pd.to_datetime(data.trunc_time)\n",
    "# Áp dụng moving average với cửa sổ 5 và lưu vào cột 'ma_5'\n",
    "data['ma_5'] = data['close_price'].rolling(window=5,min_periods=1).mean()\n",
    "\n",
    "# Xóa bỏ các dòng có giá trị null do moving average\n",
    "data.dropna(inplace=True)\n",
    "# Chia tập dữ liệu thành tập huấn luyện và tập kiểm tra\n",
    "# train_data = data.sample(frac=0.8, random_state=42)\n",
    "# test_data = data.drop(train_data.index)"
   ]
  },
  {
   "cell_type": "code",
   "execution_count": 3,
   "metadata": {},
   "outputs": [
    {
     "name": "stdout",
     "output_type": "stream",
     "text": [
      "       trunc_time  close_price          ma_5\n",
      "0      2016-01-04        12600  12600.000000\n",
      "1      2016-01-05        12300  12450.000000\n",
      "2      2016-01-06        12800  12566.666667\n",
      "3      2016-01-07        12600  12575.000000\n",
      "4      2016-01-08        12600  12580.000000\n",
      "...           ...          ...           ...\n",
      "29354  2022-11-21        16700  16450.000000\n",
      "29355  2022-11-22        16900  16810.000000\n",
      "29356  2022-11-23        17500  17080.000000\n",
      "29357  2022-11-24        18200  17280.000000\n",
      "29358  2022-11-25        18900  17640.000000\n",
      "\n",
      "[29359 rows x 3 columns]\n",
      "Shape of close dataframe: (29359, 3)\n"
     ]
    }
   ],
   "source": [
    "closedf = data[['trunc_time','close_price','ma_5']]\n",
    "print(closedf)\n",
    "print(\"Shape of close dataframe:\", closedf.shape)"
   ]
  },
  {
   "cell_type": "code",
   "execution_count": 4,
   "metadata": {},
   "outputs": [
    {
     "name": "stdout",
     "output_type": "stream",
     "text": [
      "[[0.18039216]\n",
      " [0.17504456]\n",
      " [0.1792038 ]\n",
      " ...\n",
      " [0.34010695]\n",
      " [0.34723708]\n",
      " [0.3600713 ]] (29359, 1)\n",
      "[[0.18563923]\n",
      " [0.17513135]\n",
      " [0.19264448]\n",
      " ...\n",
      " [0.35726795]\n",
      " [0.38178634]\n",
      " [0.40630473]] (29359, 1)\n"
     ]
    }
   ],
   "source": [
    "import copy\n",
    "\n",
    "close_stock = closedf.copy()\n",
    "del closedf['trunc_time']\n",
    "\n",
    "X_data = copy.deepcopy(closedf)\n",
    "Y_data = copy.deepcopy(closedf)\n",
    "\n",
    "del X_data['close_price']\n",
    "del Y_data['ma_5']\n",
    "\n",
    "scaler=MinMaxScaler(feature_range=(0,1))\n",
    "\n",
    "X_data=scaler.fit_transform(np.array(X_data).reshape(-1,1))\n",
    "Y_data=scaler.fit_transform(np.array(Y_data).reshape(-1,1))\n",
    "\n",
    "print(X_data, X_data.shape)\n",
    "print(Y_data, Y_data.shape)"
   ]
  },
  {
   "cell_type": "code",
   "execution_count": 5,
   "metadata": {},
   "outputs": [],
   "source": [
    "# training_size=int(len(closedf)*0.8)\n",
    "# test_size=len(closedf)-training_size\n",
    "# train_data,test_data=closedf[0:training_size,:],closedf[training_size:len(closedf),:1]\n",
    "# print(\"train_data: \", train_data.shape)\n",
    "# print(\"test_data: \", test_data.shape)\n",
    "# train_data"
   ]
  },
  {
   "cell_type": "code",
   "execution_count": 6,
   "metadata": {},
   "outputs": [],
   "source": [
    "# convert an array of values into a dataset matrix\n",
    "# def create_dataset(dataset, time_step=1):\n",
    "#     dataX, dataY = [], []\n",
    "#     for i in range(len(dataset)-time_step-1):\n",
    "#         a = dataset[i:(i+time_step), 0]   ###i=0, 0,1,2,3-----99   100 \n",
    "#         dataX.append(a)\n",
    "#         dataY.append(dataset[i + time_step, 0])\n",
    "#     return np.array(dataX), np.array(dataY)\n",
    "def create_dataset(data_set):\n",
    "    training_size=int(len(data_set)*0.8)\n",
    "    # test_size=len(data_set)-training_size\n",
    "    train_data,test_data=data_set[0:training_size,:],data_set[training_size:len(data_set),:1]\n",
    "    print(\"train_data: \", train_data)\n",
    "    print(\"test_data: \", test_data)\n",
    "    return train_data,test_data"
   ]
  },
  {
   "cell_type": "code",
   "execution_count": 7,
   "metadata": {},
   "outputs": [
    {
     "name": "stdout",
     "output_type": "stream",
     "text": [
      "train_data:  [[0.18039216]\n",
      " [0.17504456]\n",
      " [0.1792038 ]\n",
      " ...\n",
      " [0.13333333]\n",
      " [0.13048128]\n",
      " [0.12905526]]\n",
      "test_data:  [[0.1315508 ]\n",
      " [0.13368984]\n",
      " [0.14438503]\n",
      " ...\n",
      " [0.34010695]\n",
      " [0.34723708]\n",
      " [0.3600713 ]]\n",
      "train_data:  [[0.18563923]\n",
      " [0.17513135]\n",
      " [0.19264448]\n",
      " ...\n",
      " [0.12434326]\n",
      " [0.13485114]\n",
      " [0.13660245]]\n",
      "test_data:  [[0.15236427]\n",
      " [0.15061296]\n",
      " [0.17688266]\n",
      " ...\n",
      " [0.35726795]\n",
      " [0.38178634]\n",
      " [0.40630473]]\n",
      "X_train:  [[0.18039216]\n",
      " [0.17504456]\n",
      " [0.1792038 ]\n",
      " ...\n",
      " [0.13333333]\n",
      " [0.13048128]\n",
      " [0.12905526]]\n",
      "y_train:  (23487, 1)\n",
      "X_test:  (5872, 1)\n",
      "y_test (5872, 1)\n"
     ]
    }
   ],
   "source": [
    "# reshape into X=t,t+1,t+2,t+3 and Y=t+4\n",
    "time_step = 10\n",
    "# print(type(X_data))\n",
    "X_train, X_test = create_dataset(X_data)\n",
    "y_train, y_test = create_dataset(Y_data)\n",
    "\n",
    "print(\"X_train: \", X_train)\n",
    "print(\"y_train: \", y_train.shape)\n",
    "print(\"X_test: \", X_test.shape)\n",
    "print(\"y_test\", y_test.shape)\n",
    "# print(\"type(X_test)\",type(X_test))"
   ]
  },
  {
   "cell_type": "code",
   "execution_count": 8,
   "metadata": {},
   "outputs": [],
   "source": [
    "class Node:\n",
    "    def __init__(self, split_feature=None, split_value=None, left=None, right=None, prediction=None, is_leaf=False):\n",
    "        self.split_feature = split_feature\n",
    "        self.split_value = split_value\n",
    "        self.left = left\n",
    "        self.right = right\n",
    "        self.prediction = prediction\n",
    "        self.is_leaf = is_leaf"
   ]
  },
  {
   "cell_type": "code",
   "execution_count": 9,
   "metadata": {},
   "outputs": [],
   "source": [
    "import numpy as np\n",
    "\n",
    "class DecisionTreeRegressor:\n",
    "    def __init__(self, max_depth=None, min_samples_split=2, min_samples_leaf=1, max_features=None):\n",
    "        self.max_depth = max_depth\n",
    "        self.min_samples_split = min_samples_split\n",
    "        self.min_samples_leaf = min_samples_leaf\n",
    "        self.max_features = max_features\n",
    "        self.tree = None\n",
    "\n",
    "    def fit(self, X, y):\n",
    "        self.tree = self._build_tree(X, y, depth=0)\n",
    "\n",
    "    def _split(self, X, y):\n",
    "        best_feature = None\n",
    "        best_value = None\n",
    "        best_score = float('inf')\n",
    "\n",
    "        m, p = X.shape\n",
    "\n",
    "        for feature in range(p):\n",
    "            values = np.unique(X[:, feature])\n",
    "\n",
    "            for value in values:\n",
    "                left_indices = X[:, feature] <= value\n",
    "                right_indices = X[:, feature] > value\n",
    "\n",
    "                if len(y[left_indices]) < self.min_samples_leaf or len(y[right_indices]) < self.min_samples_leaf:\n",
    "                    continue\n",
    "\n",
    "                score = len(y[left_indices]) * np.var(y[left_indices]) + len(y[right_indices]) * np.var(y[right_indices])\n",
    "\n",
    "                if score < best_score:\n",
    "                    best_feature = feature\n",
    "                    best_value = value\n",
    "                    best_score = score\n",
    "\n",
    "        return best_feature, best_value, best_score\n",
    "\n",
    "    def _build_tree(self, X, y, node=None, depth=0):\n",
    "        if node is None:\n",
    "            node = Node()\n",
    "\n",
    "        if depth == self.max_depth or len(y) < self.min_samples_split:\n",
    "            node.is_leaf = True\n",
    "            node.prediction = np.mean(y)\n",
    "            return node\n",
    "\n",
    "        split_feature, split_value, split_score = self._split(X, y)\n",
    "\n",
    "        if split_feature is None:\n",
    "            node.is_leaf = True\n",
    "            node.prediction = np.mean(y)\n",
    "            return node\n",
    "\n",
    "        left_indices = X[:, split_feature] <= split_value\n",
    "        right_indices = X[:, split_feature] > split_value\n",
    "\n",
    "        node.split_feature = split_feature\n",
    "        node.split_value = split_value\n",
    "\n",
    "        node.left = self._build_tree(X[left_indices], y[left_indices], Node(), depth + 1)\n",
    "        node.right = self._build_tree(X[right_indices], y[right_indices], Node(), depth + 1)\n",
    "\n",
    "        return node\n",
    "    def predict(self, X):\n",
    "        return np.array([self._traverse_tree(x, self.tree) for x in X])\n",
    "    \n",
    "    def _traverse_tree(self, x, node):\n",
    "        if node.is_leaf:\n",
    "            return node.prediction\n",
    "        else:\n",
    "            if x[node.split_feature] <= node.split_value:\n",
    "                return self._traverse_tree(x, node.left)\n",
    "            else:\n",
    "                return self._traverse_tree(x, node.right)"
   ]
  },
  {
   "cell_type": "code",
   "execution_count": 10,
   "metadata": {},
   "outputs": [],
   "source": [
    "import numpy as np\n",
    "\n",
    "class RandomForestRegressor:\n",
    "    def __init__(self, n_estimators=10, max_depth=None, min_samples_split=2, min_samples_leaf=1, max_features=None):\n",
    "        self.n_estimators = n_estimators\n",
    "        self.max_depth = max_depth\n",
    "        self.min_samples_split = min_samples_split\n",
    "        self.min_samples_leaf = min_samples_leaf\n",
    "        self.max_features = max_features\n",
    "        self.trees = []\n",
    "        \n",
    "    def fit(self, X, y):\n",
    "        for i in range(self.n_estimators):\n",
    "            bootstrap_indices = np.random.choice(len(X), size=len(X), replace=True)\n",
    "            bootstrap_X = X[bootstrap_indices]\n",
    "            bootstrap_y = y[bootstrap_indices]\n",
    "            \n",
    "            tree = DecisionTreeRegressor(max_depth=self.max_depth, min_samples_split=self.min_samples_split, \n",
    "                                          min_samples_leaf=self.min_samples_leaf, max_features=self.max_features)\n",
    "            tree.fit(bootstrap_X, bootstrap_y)\n",
    "            self.trees.append(tree)\n",
    "            \n",
    "    def predict(self, X):\n",
    "        return np.mean([tree.predict(X) for tree in self.trees], axis=0)"
   ]
  },
  {
   "cell_type": "code",
   "execution_count": 11,
   "metadata": {},
   "outputs": [],
   "source": [
    "from sklearn.metrics import mean_squared_error\n",
    "import optuna\n",
    "# from sklearn.ensemble import RandomForestRegressor as SklearnRandom\n",
    "\n",
    "# Define the objective function for Optuna\n",
    "# def objective(trial):\n",
    "#     n_estimators = trial.suggest_int('n_estimators', 10, 1000)\n",
    "#     max_depth = trial.suggest_int('max_depth', 2, 32)\n",
    "#     min_samples_split = trial.suggest_int('min_samples_split', 2, 10)\n",
    "#     min_samples_leaf = trial.suggest_int('min_samples_leaf', 1, 10)\n",
    "#     max_features = trial.suggest_categorical('max_features', ['auto', 'sqrt', 'log2'])\n",
    "#     print(n_estimators)\n",
    "\n",
    "#     model = RandomForestRegressor(\n",
    "#         n_estimators=n_estimators,\n",
    "#         max_depth=max_depth,\n",
    "#         min_samples_split=min_samples_split,\n",
    "#         min_samples_leaf=min_samples_leaf,\n",
    "#         max_features=max_features    \n",
    "#     )\n",
    "\n",
    "#     print(n_estimators)\n",
    "#     model.fit(X_train, y_train)\n",
    "#     y_pred = model.predict(X_test)\n",
    "#     mse = mean_squared_error(y_test, y_pred)\n",
    "\n",
    "#     return mse\n",
    "\n",
    "# # Use Optuna to optimize hyperparameters\n",
    "# study = optuna.create_study(direction='minimize')\n",
    "# study.optimize(objective, n_trials=2)\n",
    "# best_params = study.best_params"
   ]
  },
  {
   "cell_type": "code",
   "execution_count": 12,
   "metadata": {},
   "outputs": [],
   "source": [
    "rf = RandomForestRegressor(max_depth=26, min_samples_leaf=2, min_samples_split=10,n_estimators=160, max_features=1)\n",
    "# rf.fit(X_train, y_train)"
   ]
  },
  {
   "cell_type": "code",
   "execution_count": 13,
   "metadata": {},
   "outputs": [],
   "source": [
    "# rf = SklearnRandom(max_depth=26, min_samples_leaf=2, min_samples_split=10,\n",
    "#                       n_estimators=160)\n",
    "rf.fit(X_train, y_train)"
   ]
  },
  {
   "cell_type": "code",
   "execution_count": 14,
   "metadata": {},
   "outputs": [
    {
     "name": "stdout",
     "output_type": "stream",
     "text": [
      "Train data prediction: (23487, 1)\n",
      "Test data prediction: (5872, 1)\n"
     ]
    }
   ],
   "source": [
    "# Lets Do the prediction \n",
    "\n",
    "RF_train_predict=rf.predict(X_train)\n",
    "RF_test_predict=rf.predict(X_test)\n",
    "# print(\"Train data prediction:\", train_predict)\n",
    "# # print(\"Test data prediction:\", test_predict)\n",
    "RF_train_predict = RF_train_predict.reshape(-1,1)\n",
    "RF_test_predict = RF_test_predict.reshape(-1,1)\n",
    "\n",
    "print(\"Train data prediction:\", RF_train_predict.shape)\n",
    "print(\"Test data prediction:\", RF_test_predict.shape)"
   ]
  },
  {
   "cell_type": "code",
   "execution_count": 15,
   "metadata": {},
   "outputs": [],
   "source": [
    "# Transform back to original form\n",
    "\n",
    "RF_train_predict = scaler.inverse_transform(RF_train_predict)\n",
    "RF_test_predict = scaler.inverse_transform(RF_test_predict)\n",
    "RF_original_ytrain = scaler.inverse_transform(y_train.reshape(-1,1)) \n",
    "RF_original_ytest = scaler.inverse_transform(y_test.reshape(-1,1)) "
   ]
  },
  {
   "cell_type": "code",
   "execution_count": 16,
   "metadata": {},
   "outputs": [
    {
     "name": "stdout",
     "output_type": "stream",
     "text": [
      "Train data RMSE:  254.65358511181233\n",
      "Train data MSE:  64848.448410299054\n",
      "Test data MAE:  127.64254871882568\n",
      "-------------------------------------------------------------------------------------\n",
      "Test data RMSE:  259.48371160170717\n",
      "Test data MSE:  67331.79658659793\n",
      "Test data MAE:  125.80121367665456\n"
     ]
    }
   ],
   "source": [
    "# Evaluation metrices RMSE and MAE\n",
    "RF_RMSE_train = math.sqrt(mean_squared_error(RF_original_ytrain,RF_train_predict))\n",
    "RF_MSE_train = mean_squared_error(RF_original_ytrain,RF_train_predict)\n",
    "RF_MAE_train = mean_absolute_error(RF_original_ytrain,RF_train_predict)\n",
    "\n",
    "RF_RMSE_test = math.sqrt(mean_squared_error(RF_original_ytest,RF_test_predict))\n",
    "RF_MSE_test = mean_squared_error(RF_original_ytest,RF_test_predict)\n",
    "RF_MAE_test = mean_absolute_error(RF_original_ytest,RF_test_predict)\n",
    "\n",
    "print(\"Train data RMSE: \", RF_RMSE_train)\n",
    "print(\"Train data MSE: \", RF_MSE_train)\n",
    "print(\"Test data MAE: \", RF_MAE_train)\n",
    "print(\"-------------------------------------------------------------------------------------\")\n",
    "print(\"Test data RMSE: \", RF_RMSE_test)\n",
    "print(\"Test data MSE: \", RF_MSE_test)\n",
    "print(\"Test data MAE: \", RF_MAE_test)"
   ]
  },
  {
   "cell_type": "code",
   "execution_count": 17,
   "metadata": {},
   "outputs": [
    {
     "name": "stdout",
     "output_type": "stream",
     "text": [
      "Train data explained variance regression score: 0.9985886083637554\n",
      "Test data explained variance regression score: 0.998708489581844\n"
     ]
    }
   ],
   "source": [
    "RF_EV_train = explained_variance_score(RF_original_ytrain, RF_train_predict)\n",
    "RF_EV_test = explained_variance_score(RF_original_ytest, RF_test_predict)\n",
    "\n",
    "print(\"Train data explained variance regression score:\", RF_EV_train)\n",
    "print(\"Test data explained variance regression score:\", RF_EV_test)"
   ]
  },
  {
   "cell_type": "code",
   "execution_count": 18,
   "metadata": {},
   "outputs": [
    {
     "name": "stdout",
     "output_type": "stream",
     "text": [
      "Train data R2 score: 0.9985886082004637\n",
      "Test data R2 score: 0.9987084383740871\n"
     ]
    }
   ],
   "source": [
    "RF_r2_train = r2_score(RF_original_ytrain, RF_train_predict)\n",
    "RF_r2_test = r2_score(RF_original_ytest, RF_test_predict)\n",
    "\n",
    "print(\"Train data R2 score:\", RF_r2_train)\n",
    "print(\"Test data R2 score:\", RF_r2_test)"
   ]
  },
  {
   "cell_type": "code",
   "execution_count": 19,
   "metadata": {},
   "outputs": [
    {
     "name": "stdout",
     "output_type": "stream",
     "text": [
      "Train data MGD:  0.00031349423851573845\n",
      "Test data MGD:  0.00030491271417433177\n",
      "----------------------------------------------------------------------\n",
      "Train data MPD:  4.322252022372447\n",
      "Test data MPD:  4.32141175239604\n"
     ]
    }
   ],
   "source": [
    "RF_MGD_train = mean_gamma_deviance(RF_original_ytrain, RF_train_predict)\n",
    "RF_MGD_test = mean_gamma_deviance(RF_original_ytest, RF_test_predict)\n",
    "RF_MPD_train = mean_poisson_deviance(RF_original_ytrain, RF_train_predict)\n",
    "RF_MPD_test = mean_poisson_deviance(RF_original_ytest, RF_test_predict)\n",
    "print(\"Train data MGD: \", RF_MGD_train)\n",
    "print(\"Test data MGD: \", RF_MGD_test)\n",
    "print(\"----------------------------------------------------------------------\")\n",
    "print(\"Train data MPD: \", RF_MPD_train)\n",
    "print(\"Test data MPD: \",RF_MPD_test)"
   ]
  },
  {
   "cell_type": "code",
   "execution_count": 24,
   "metadata": {},
   "outputs": [
    {
     "name": "stdout",
     "output_type": "stream",
     "text": [
      "Train predicted data:  (29359, 2)\n"
     ]
    },
    {
     "ename": "ValueError",
     "evalue": "could not broadcast input array from shape (5872,1) into shape (5850,2)",
     "output_type": "error",
     "traceback": [
      "\u001b[1;31m---------------------------------------------------------------------------\u001b[0m",
      "\u001b[1;31mValueError\u001b[0m                                Traceback (most recent call last)",
      "\u001b[1;32mc:\\Users\\ACER\\Desktop\\datn223\\DATN_223\\Demo\\CustomRF_MV.ipynb Cell 20\u001b[0m in \u001b[0;36m<cell line: 13>\u001b[1;34m()\u001b[0m\n\u001b[0;32m     <a href='vscode-notebook-cell:/c%3A/Users/ACER/Desktop/datn223/DATN_223/Demo/CustomRF_MV.ipynb#X25sZmlsZQ%3D%3D?line=10'>11</a>\u001b[0m testPredictPlot \u001b[39m=\u001b[39m np\u001b[39m.\u001b[39mempty_like(closedf)\n\u001b[0;32m     <a href='vscode-notebook-cell:/c%3A/Users/ACER/Desktop/datn223/DATN_223/Demo/CustomRF_MV.ipynb#X25sZmlsZQ%3D%3D?line=11'>12</a>\u001b[0m testPredictPlot[:, :] \u001b[39m=\u001b[39m np\u001b[39m.\u001b[39mnan\n\u001b[1;32m---> <a href='vscode-notebook-cell:/c%3A/Users/ACER/Desktop/datn223/DATN_223/Demo/CustomRF_MV.ipynb#X25sZmlsZQ%3D%3D?line=12'>13</a>\u001b[0m testPredictPlot[\u001b[39mlen\u001b[39m(RF_train_predict)\u001b[39m+\u001b[39m(look_back\u001b[39m*\u001b[39m\u001b[39m2\u001b[39m)\u001b[39m+\u001b[39m\u001b[39m1\u001b[39m:\u001b[39mlen\u001b[39m(closedf)\u001b[39m-\u001b[39m\u001b[39m1\u001b[39m, :] \u001b[39m=\u001b[39m RF_test_predict\n\u001b[0;32m     <a href='vscode-notebook-cell:/c%3A/Users/ACER/Desktop/datn223/DATN_223/Demo/CustomRF_MV.ipynb#X25sZmlsZQ%3D%3D?line=13'>14</a>\u001b[0m \u001b[39mprint\u001b[39m(\u001b[39m\"\u001b[39m\u001b[39mTest predicted data: \u001b[39m\u001b[39m\"\u001b[39m, testPredictPlot\u001b[39m.\u001b[39mshape)\n\u001b[0;32m     <a href='vscode-notebook-cell:/c%3A/Users/ACER/Desktop/datn223/DATN_223/Demo/CustomRF_MV.ipynb#X25sZmlsZQ%3D%3D?line=15'>16</a>\u001b[0m names \u001b[39m=\u001b[39m cycle([\u001b[39m'\u001b[39m\u001b[39mOriginal close price\u001b[39m\u001b[39m'\u001b[39m,\u001b[39m'\u001b[39m\u001b[39mTrain predicted close price\u001b[39m\u001b[39m'\u001b[39m,\u001b[39m'\u001b[39m\u001b[39mTest predicted close price\u001b[39m\u001b[39m'\u001b[39m])\n",
      "\u001b[1;31mValueError\u001b[0m: could not broadcast input array from shape (5872,1) into shape (5850,2)"
     ]
    }
   ],
   "source": [
    "# shift train predictions for plotting\n",
    "from itertools import cycle\n",
    "import plotly.express as px\n",
    "look_back=time_step\n",
    "trainPredictPlot = np.empty_like(closedf)\n",
    "trainPredictPlot[:, :] = np.nan\n",
    "trainPredictPlot[look_back:len(RF_train_predict)+look_back, :] = RF_train_predict\n",
    "print(\"Train predicted data: \", trainPredictPlot.shape)\n",
    "\n",
    "# shift test predictions for plotting\n",
    "testPredictPlot = np.empty_like(closedf)\n",
    "testPredictPlot[:, :] = np.nan\n",
    "testPredictPlot[len(RF_train_predict)+(look_back*2)+1:len(closedf)-1, :] = RF_test_predict\n",
    "print(\"Test predicted data: \", testPredictPlot.shape)\n",
    "\n",
    "names = cycle(['Original close price','Train predicted close price','Test predicted close price'])\n",
    "\n",
    "\n",
    "plotdf = pd.DataFrame({'date': close_stock['trunc_time'],\n",
    "                       'original_close': close_stock['ma_5'],\n",
    "                      'train_predicted_close': trainPredictPlot.reshape(1,-1)[0].tolist(),\n",
    "                      'test_predicted_close': testPredictPlot.reshape(1,-1)[0].tolist()})\n",
    "\n",
    "fig = px.line(plotdf,x=plotdf['date'], y=[plotdf['original_close'],plotdf['train_predicted_close'],\n",
    "                                          plotdf['test_predicted_close']],\n",
    "              labels={'value':'Stock price','date': 'Date'})\n",
    "fig.update_layout(title_text='Comparision between original close price vs predicted close price',\n",
    "                  plot_bgcolor='white', font_size=15, font_color='black', legend_title_text='Close Price')\n",
    "fig.for_each_trace(lambda t:  t.update(name = next(names)))\n",
    "\n",
    "fig.update_xaxes(showgrid=False)\n",
    "fig.update_yaxes(showgrid=False)\n",
    "fig.show()"
   ]
  },
  {
   "cell_type": "code",
   "execution_count": null,
   "metadata": {},
   "outputs": [
    {
     "name": "stdout",
     "output_type": "stream",
     "text": [
      "Output of predicted next days:  10\n"
     ]
    }
   ],
   "source": [
    "x_input=test_data[len(test_data)-time_step:].reshape(1,-1)\n",
    "temp_input=list(x_input)\n",
    "temp_input=temp_input[0].tolist()\n",
    "\n",
    "from numpy import array\n",
    "\n",
    "lst_output=[]\n",
    "n_steps=time_step\n",
    "i=0\n",
    "pred_days = 10\n",
    "while(i<pred_days):\n",
    "    \n",
    "    if(len(temp_input)>time_step):\n",
    "        \n",
    "        x_input=np.array(temp_input[1:])\n",
    "#         print(\"{} day input {}\".format(i,x_input))\n",
    "        x_input=x_input.reshape(1,-1)\n",
    "        \n",
    "        yhat = rf.predict(x_input)\n",
    "#         print(\"{} day output {}\".format(i,yhat))\n",
    "        temp_input.extend(yhat.tolist())\n",
    "        temp_input=temp_input[1:]\n",
    "       \n",
    "        lst_output.extend(yhat.tolist())\n",
    "        i=i+1\n",
    "        \n",
    "    else:\n",
    "        yhat = rf.predict(x_input)\n",
    "        \n",
    "        temp_input.extend(yhat.tolist())\n",
    "        lst_output.extend(yhat.tolist())\n",
    "        \n",
    "        i=i+1\n",
    "        \n",
    "print(\"Output of predicted next days: \", len(lst_output))"
   ]
  },
  {
   "cell_type": "code",
   "execution_count": null,
   "metadata": {},
   "outputs": [
    {
     "name": "stdout",
     "output_type": "stream",
     "text": [
      "[ 1  2  3  4  5  6  7  8  9 10]\n",
      "[11 12 13 14 15 16 17 18 19 20]\n"
     ]
    }
   ],
   "source": [
    "last_days=np.arange(1,time_step+1)\n",
    "day_pred=np.arange(time_step+1,time_step+pred_days+1)\n",
    "print(last_days)\n",
    "print(day_pred)"
   ]
  },
  {
   "cell_type": "code",
   "execution_count": null,
   "metadata": {},
   "outputs": [
    {
     "data": {
      "application/vnd.plotly.v1+json": {
       "config": {
        "plotlyServerURL": "https://plot.ly"
       },
       "data": [
        {
         "hovertemplate": "variable=last_original_days_value<br>Timestamp=%{x}<br>Stock price=%{y}<extra></extra>",
         "legendgroup": "last_original_days_value",
         "line": {
          "color": "#636efa",
          "dash": "solid"
         },
         "marker": {
          "symbol": "circle"
         },
         "mode": "lines",
         "name": "Last 15 days close price",
         "orientation": "v",
         "showlegend": true,
         "type": "scatter",
         "x": [
          0,
          1,
          2,
          3,
          4,
          5,
          6,
          7,
          8,
          9,
          10,
          11,
          12,
          13,
          14,
          15,
          16,
          17,
          18,
          19,
          20
         ],
         "xaxis": "x",
         "y": [
          15850,
          15099.999999999998,
          16149.999999999998,
          17200,
          17100,
          16700,
          16900,
          17500,
          18200,
          18900,
          null,
          null,
          null,
          null,
          null,
          null,
          null,
          null,
          null,
          null,
          null
         ],
         "yaxis": "y"
        },
        {
         "hovertemplate": "variable=next_predicted_days_value<br>Timestamp=%{x}<br>Stock price=%{y}<extra></extra>",
         "legendgroup": "next_predicted_days_value",
         "line": {
          "color": "#EF553B",
          "dash": "solid"
         },
         "marker": {
          "symbol": "circle"
         },
         "mode": "lines",
         "name": "Predicted next 10 days close price",
         "orientation": "v",
         "showlegend": true,
         "type": "scatter",
         "x": [
          0,
          1,
          2,
          3,
          4,
          5,
          6,
          7,
          8,
          9,
          10,
          11,
          12,
          13,
          14,
          15,
          16,
          17,
          18,
          19,
          20
         ],
         "xaxis": "x",
         "y": [
          null,
          null,
          null,
          null,
          null,
          null,
          null,
          null,
          null,
          null,
          null,
          18853.28199404762,
          18997.42423115079,
          19071.65550595238,
          19005.618923611113,
          18996.13777281746,
          18949.14136904762,
          18913.651537698413,
          19055.656994047622,
          19075.010292658728,
          19019.632316468254
         ],
         "yaxis": "y"
        }
       ],
       "layout": {
        "font": {
         "color": "black",
         "size": 15
        },
        "legend": {
         "title": {
          "text": "Close Price"
         },
         "tracegroupgap": 0
        },
        "margin": {
         "t": 60
        },
        "plot_bgcolor": "white",
        "template": {
         "data": {
          "bar": [
           {
            "error_x": {
             "color": "#2a3f5f"
            },
            "error_y": {
             "color": "#2a3f5f"
            },
            "marker": {
             "line": {
              "color": "#E5ECF6",
              "width": 0.5
             },
             "pattern": {
              "fillmode": "overlay",
              "size": 10,
              "solidity": 0.2
             }
            },
            "type": "bar"
           }
          ],
          "barpolar": [
           {
            "marker": {
             "line": {
              "color": "#E5ECF6",
              "width": 0.5
             },
             "pattern": {
              "fillmode": "overlay",
              "size": 10,
              "solidity": 0.2
             }
            },
            "type": "barpolar"
           }
          ],
          "carpet": [
           {
            "aaxis": {
             "endlinecolor": "#2a3f5f",
             "gridcolor": "white",
             "linecolor": "white",
             "minorgridcolor": "white",
             "startlinecolor": "#2a3f5f"
            },
            "baxis": {
             "endlinecolor": "#2a3f5f",
             "gridcolor": "white",
             "linecolor": "white",
             "minorgridcolor": "white",
             "startlinecolor": "#2a3f5f"
            },
            "type": "carpet"
           }
          ],
          "choropleth": [
           {
            "colorbar": {
             "outlinewidth": 0,
             "ticks": ""
            },
            "type": "choropleth"
           }
          ],
          "contour": [
           {
            "colorbar": {
             "outlinewidth": 0,
             "ticks": ""
            },
            "colorscale": [
             [
              0,
              "#0d0887"
             ],
             [
              0.1111111111111111,
              "#46039f"
             ],
             [
              0.2222222222222222,
              "#7201a8"
             ],
             [
              0.3333333333333333,
              "#9c179e"
             ],
             [
              0.4444444444444444,
              "#bd3786"
             ],
             [
              0.5555555555555556,
              "#d8576b"
             ],
             [
              0.6666666666666666,
              "#ed7953"
             ],
             [
              0.7777777777777778,
              "#fb9f3a"
             ],
             [
              0.8888888888888888,
              "#fdca26"
             ],
             [
              1,
              "#f0f921"
             ]
            ],
            "type": "contour"
           }
          ],
          "contourcarpet": [
           {
            "colorbar": {
             "outlinewidth": 0,
             "ticks": ""
            },
            "type": "contourcarpet"
           }
          ],
          "heatmap": [
           {
            "colorbar": {
             "outlinewidth": 0,
             "ticks": ""
            },
            "colorscale": [
             [
              0,
              "#0d0887"
             ],
             [
              0.1111111111111111,
              "#46039f"
             ],
             [
              0.2222222222222222,
              "#7201a8"
             ],
             [
              0.3333333333333333,
              "#9c179e"
             ],
             [
              0.4444444444444444,
              "#bd3786"
             ],
             [
              0.5555555555555556,
              "#d8576b"
             ],
             [
              0.6666666666666666,
              "#ed7953"
             ],
             [
              0.7777777777777778,
              "#fb9f3a"
             ],
             [
              0.8888888888888888,
              "#fdca26"
             ],
             [
              1,
              "#f0f921"
             ]
            ],
            "type": "heatmap"
           }
          ],
          "heatmapgl": [
           {
            "colorbar": {
             "outlinewidth": 0,
             "ticks": ""
            },
            "colorscale": [
             [
              0,
              "#0d0887"
             ],
             [
              0.1111111111111111,
              "#46039f"
             ],
             [
              0.2222222222222222,
              "#7201a8"
             ],
             [
              0.3333333333333333,
              "#9c179e"
             ],
             [
              0.4444444444444444,
              "#bd3786"
             ],
             [
              0.5555555555555556,
              "#d8576b"
             ],
             [
              0.6666666666666666,
              "#ed7953"
             ],
             [
              0.7777777777777778,
              "#fb9f3a"
             ],
             [
              0.8888888888888888,
              "#fdca26"
             ],
             [
              1,
              "#f0f921"
             ]
            ],
            "type": "heatmapgl"
           }
          ],
          "histogram": [
           {
            "marker": {
             "pattern": {
              "fillmode": "overlay",
              "size": 10,
              "solidity": 0.2
             }
            },
            "type": "histogram"
           }
          ],
          "histogram2d": [
           {
            "colorbar": {
             "outlinewidth": 0,
             "ticks": ""
            },
            "colorscale": [
             [
              0,
              "#0d0887"
             ],
             [
              0.1111111111111111,
              "#46039f"
             ],
             [
              0.2222222222222222,
              "#7201a8"
             ],
             [
              0.3333333333333333,
              "#9c179e"
             ],
             [
              0.4444444444444444,
              "#bd3786"
             ],
             [
              0.5555555555555556,
              "#d8576b"
             ],
             [
              0.6666666666666666,
              "#ed7953"
             ],
             [
              0.7777777777777778,
              "#fb9f3a"
             ],
             [
              0.8888888888888888,
              "#fdca26"
             ],
             [
              1,
              "#f0f921"
             ]
            ],
            "type": "histogram2d"
           }
          ],
          "histogram2dcontour": [
           {
            "colorbar": {
             "outlinewidth": 0,
             "ticks": ""
            },
            "colorscale": [
             [
              0,
              "#0d0887"
             ],
             [
              0.1111111111111111,
              "#46039f"
             ],
             [
              0.2222222222222222,
              "#7201a8"
             ],
             [
              0.3333333333333333,
              "#9c179e"
             ],
             [
              0.4444444444444444,
              "#bd3786"
             ],
             [
              0.5555555555555556,
              "#d8576b"
             ],
             [
              0.6666666666666666,
              "#ed7953"
             ],
             [
              0.7777777777777778,
              "#fb9f3a"
             ],
             [
              0.8888888888888888,
              "#fdca26"
             ],
             [
              1,
              "#f0f921"
             ]
            ],
            "type": "histogram2dcontour"
           }
          ],
          "mesh3d": [
           {
            "colorbar": {
             "outlinewidth": 0,
             "ticks": ""
            },
            "type": "mesh3d"
           }
          ],
          "parcoords": [
           {
            "line": {
             "colorbar": {
              "outlinewidth": 0,
              "ticks": ""
             }
            },
            "type": "parcoords"
           }
          ],
          "pie": [
           {
            "automargin": true,
            "type": "pie"
           }
          ],
          "scatter": [
           {
            "fillpattern": {
             "fillmode": "overlay",
             "size": 10,
             "solidity": 0.2
            },
            "type": "scatter"
           }
          ],
          "scatter3d": [
           {
            "line": {
             "colorbar": {
              "outlinewidth": 0,
              "ticks": ""
             }
            },
            "marker": {
             "colorbar": {
              "outlinewidth": 0,
              "ticks": ""
             }
            },
            "type": "scatter3d"
           }
          ],
          "scattercarpet": [
           {
            "marker": {
             "colorbar": {
              "outlinewidth": 0,
              "ticks": ""
             }
            },
            "type": "scattercarpet"
           }
          ],
          "scattergeo": [
           {
            "marker": {
             "colorbar": {
              "outlinewidth": 0,
              "ticks": ""
             }
            },
            "type": "scattergeo"
           }
          ],
          "scattergl": [
           {
            "marker": {
             "colorbar": {
              "outlinewidth": 0,
              "ticks": ""
             }
            },
            "type": "scattergl"
           }
          ],
          "scattermapbox": [
           {
            "marker": {
             "colorbar": {
              "outlinewidth": 0,
              "ticks": ""
             }
            },
            "type": "scattermapbox"
           }
          ],
          "scatterpolar": [
           {
            "marker": {
             "colorbar": {
              "outlinewidth": 0,
              "ticks": ""
             }
            },
            "type": "scatterpolar"
           }
          ],
          "scatterpolargl": [
           {
            "marker": {
             "colorbar": {
              "outlinewidth": 0,
              "ticks": ""
             }
            },
            "type": "scatterpolargl"
           }
          ],
          "scatterternary": [
           {
            "marker": {
             "colorbar": {
              "outlinewidth": 0,
              "ticks": ""
             }
            },
            "type": "scatterternary"
           }
          ],
          "surface": [
           {
            "colorbar": {
             "outlinewidth": 0,
             "ticks": ""
            },
            "colorscale": [
             [
              0,
              "#0d0887"
             ],
             [
              0.1111111111111111,
              "#46039f"
             ],
             [
              0.2222222222222222,
              "#7201a8"
             ],
             [
              0.3333333333333333,
              "#9c179e"
             ],
             [
              0.4444444444444444,
              "#bd3786"
             ],
             [
              0.5555555555555556,
              "#d8576b"
             ],
             [
              0.6666666666666666,
              "#ed7953"
             ],
             [
              0.7777777777777778,
              "#fb9f3a"
             ],
             [
              0.8888888888888888,
              "#fdca26"
             ],
             [
              1,
              "#f0f921"
             ]
            ],
            "type": "surface"
           }
          ],
          "table": [
           {
            "cells": {
             "fill": {
              "color": "#EBF0F8"
             },
             "line": {
              "color": "white"
             }
            },
            "header": {
             "fill": {
              "color": "#C8D4E3"
             },
             "line": {
              "color": "white"
             }
            },
            "type": "table"
           }
          ]
         },
         "layout": {
          "annotationdefaults": {
           "arrowcolor": "#2a3f5f",
           "arrowhead": 0,
           "arrowwidth": 1
          },
          "autotypenumbers": "strict",
          "coloraxis": {
           "colorbar": {
            "outlinewidth": 0,
            "ticks": ""
           }
          },
          "colorscale": {
           "diverging": [
            [
             0,
             "#8e0152"
            ],
            [
             0.1,
             "#c51b7d"
            ],
            [
             0.2,
             "#de77ae"
            ],
            [
             0.3,
             "#f1b6da"
            ],
            [
             0.4,
             "#fde0ef"
            ],
            [
             0.5,
             "#f7f7f7"
            ],
            [
             0.6,
             "#e6f5d0"
            ],
            [
             0.7,
             "#b8e186"
            ],
            [
             0.8,
             "#7fbc41"
            ],
            [
             0.9,
             "#4d9221"
            ],
            [
             1,
             "#276419"
            ]
           ],
           "sequential": [
            [
             0,
             "#0d0887"
            ],
            [
             0.1111111111111111,
             "#46039f"
            ],
            [
             0.2222222222222222,
             "#7201a8"
            ],
            [
             0.3333333333333333,
             "#9c179e"
            ],
            [
             0.4444444444444444,
             "#bd3786"
            ],
            [
             0.5555555555555556,
             "#d8576b"
            ],
            [
             0.6666666666666666,
             "#ed7953"
            ],
            [
             0.7777777777777778,
             "#fb9f3a"
            ],
            [
             0.8888888888888888,
             "#fdca26"
            ],
            [
             1,
             "#f0f921"
            ]
           ],
           "sequentialminus": [
            [
             0,
             "#0d0887"
            ],
            [
             0.1111111111111111,
             "#46039f"
            ],
            [
             0.2222222222222222,
             "#7201a8"
            ],
            [
             0.3333333333333333,
             "#9c179e"
            ],
            [
             0.4444444444444444,
             "#bd3786"
            ],
            [
             0.5555555555555556,
             "#d8576b"
            ],
            [
             0.6666666666666666,
             "#ed7953"
            ],
            [
             0.7777777777777778,
             "#fb9f3a"
            ],
            [
             0.8888888888888888,
             "#fdca26"
            ],
            [
             1,
             "#f0f921"
            ]
           ]
          },
          "colorway": [
           "#636efa",
           "#EF553B",
           "#00cc96",
           "#ab63fa",
           "#FFA15A",
           "#19d3f3",
           "#FF6692",
           "#B6E880",
           "#FF97FF",
           "#FECB52"
          ],
          "font": {
           "color": "#2a3f5f"
          },
          "geo": {
           "bgcolor": "white",
           "lakecolor": "white",
           "landcolor": "#E5ECF6",
           "showlakes": true,
           "showland": true,
           "subunitcolor": "white"
          },
          "hoverlabel": {
           "align": "left"
          },
          "hovermode": "closest",
          "mapbox": {
           "style": "light"
          },
          "paper_bgcolor": "white",
          "plot_bgcolor": "#E5ECF6",
          "polar": {
           "angularaxis": {
            "gridcolor": "white",
            "linecolor": "white",
            "ticks": ""
           },
           "bgcolor": "#E5ECF6",
           "radialaxis": {
            "gridcolor": "white",
            "linecolor": "white",
            "ticks": ""
           }
          },
          "scene": {
           "xaxis": {
            "backgroundcolor": "#E5ECF6",
            "gridcolor": "white",
            "gridwidth": 2,
            "linecolor": "white",
            "showbackground": true,
            "ticks": "",
            "zerolinecolor": "white"
           },
           "yaxis": {
            "backgroundcolor": "#E5ECF6",
            "gridcolor": "white",
            "gridwidth": 2,
            "linecolor": "white",
            "showbackground": true,
            "ticks": "",
            "zerolinecolor": "white"
           },
           "zaxis": {
            "backgroundcolor": "#E5ECF6",
            "gridcolor": "white",
            "gridwidth": 2,
            "linecolor": "white",
            "showbackground": true,
            "ticks": "",
            "zerolinecolor": "white"
           }
          },
          "shapedefaults": {
           "line": {
            "color": "#2a3f5f"
           }
          },
          "ternary": {
           "aaxis": {
            "gridcolor": "white",
            "linecolor": "white",
            "ticks": ""
           },
           "baxis": {
            "gridcolor": "white",
            "linecolor": "white",
            "ticks": ""
           },
           "bgcolor": "#E5ECF6",
           "caxis": {
            "gridcolor": "white",
            "linecolor": "white",
            "ticks": ""
           }
          },
          "title": {
           "x": 0.05
          },
          "xaxis": {
           "automargin": true,
           "gridcolor": "white",
           "linecolor": "white",
           "ticks": "",
           "title": {
            "standoff": 15
           },
           "zerolinecolor": "white",
           "zerolinewidth": 2
          },
          "yaxis": {
           "automargin": true,
           "gridcolor": "white",
           "linecolor": "white",
           "ticks": "",
           "title": {
            "standoff": 15
           },
           "zerolinecolor": "white",
           "zerolinewidth": 2
          }
         }
        },
        "title": {
         "text": "Compare last 15 days vs next 10 days"
        },
        "xaxis": {
         "anchor": "y",
         "domain": [
          0,
          1
         ],
         "showgrid": false,
         "title": {
          "text": "Timestamp"
         }
        },
        "yaxis": {
         "anchor": "x",
         "domain": [
          0,
          1
         ],
         "showgrid": false,
         "title": {
          "text": "Stock price"
         }
        }
       }
      }
     },
     "metadata": {},
     "output_type": "display_data"
    }
   ],
   "source": [
    "import copy\n",
    "\n",
    "temp_mat = np.empty((len(last_days)+pred_days+1,1))\n",
    "temp_mat[:] = np.nan\n",
    "temp_mat = temp_mat.reshape(1,-1).tolist()[0]\n",
    "\n",
    "last_original_days_value = copy.deepcopy(temp_mat)\n",
    "next_predicted_days_value = copy.deepcopy(temp_mat)\n",
    "\n",
    "last_original_days_value[0:time_step+1] = scaler.inverse_transform(closedf[len(closedf)-time_step:]).reshape(1,-1).tolist()[0]\n",
    "next_predicted_days_value[time_step+1:] = scaler.inverse_transform(np.array(lst_output).reshape(-1,1)).reshape(1,-1).tolist()[0]\n",
    "last_original_days_value.append(None)\n",
    "names = cycle(['Last 15 days close price','Predicted next 10 days close price'])\n",
    "\n",
    "new_pred_plot = pd.DataFrame({\n",
    "    'last_original_days_value':last_original_days_value,\n",
    "    'next_predicted_days_value':next_predicted_days_value\n",
    "})\n",
    "\n",
    "fig = px.line(new_pred_plot,x=new_pred_plot.index, y=[new_pred_plot['last_original_days_value'],\n",
    "                                                      new_pred_plot['next_predicted_days_value']],\n",
    "              labels={'value': 'Stock price','index': 'Timestamp'})\n",
    "fig.update_layout(title_text='Compare last 15 days vs next 10 days',\n",
    "                  plot_bgcolor='white', font_size=15, font_color='black',legend_title_text='Close Price')\n",
    "fig.for_each_trace(lambda t:  t.update(name = next(names)))\n",
    "\n",
    "fig.update_xaxes(showgrid=False)\n",
    "fig.update_yaxes(showgrid=False)\n",
    "fig.show()"
   ]
  },
  {
   "cell_type": "code",
   "execution_count": null,
   "metadata": {},
   "outputs": [],
   "source": []
  }
 ],
 "metadata": {
  "kernelspec": {
   "display_name": "Python 3",
   "language": "python",
   "name": "python3"
  },
  "language_info": {
   "codemirror_mode": {
    "name": "ipython",
    "version": 3
   },
   "file_extension": ".py",
   "mimetype": "text/x-python",
   "name": "python",
   "nbconvert_exporter": "python",
   "pygments_lexer": "ipython3",
   "version": "3.10.4"
  },
  "orig_nbformat": 4,
  "vscode": {
   "interpreter": {
    "hash": "369f2c481f4da34e4445cda3fffd2e751bd1c4d706f27375911949ba6bb62e1c"
   }
  }
 },
 "nbformat": 4,
 "nbformat_minor": 2
}
