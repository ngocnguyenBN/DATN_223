{
 "cells": [
  {
   "cell_type": "code",
   "execution_count": 89,
   "metadata": {},
   "outputs": [],
   "source": [
    "import pandas as pd\n",
    "from pandas.tseries.frequencies import to_offset\n",
    "\n",
    "import numpy as np\n",
    "\n",
    "import matplotlib.pyplot as plt\n",
    "import plotly.graph_objects as go\n",
    "import seaborn as sns\n",
    "import math\n",
    "\n",
    "from sklearn.preprocessing import MinMaxScaler\n",
    "\n",
    "\n",
    "import time\n",
    "import datetime\n",
    "from sklearn.metrics import mean_squared_error, mean_absolute_error, explained_variance_score, r2_score \n",
    "from sklearn.metrics import mean_poisson_deviance, mean_gamma_deviance, accuracy_score\n",
    "from sklearn.metrics import mean_absolute_percentage_error\n",
    "\n",
    "import warnings\n",
    "warnings.filterwarnings('ignore')"
   ]
  },
  {
   "cell_type": "code",
   "execution_count": 90,
   "metadata": {},
   "outputs": [],
   "source": [
    "data = pd.read_csv(\"./Dataset/STB.csv\")\n",
    "data.rename(columns={\"trunc_time\":\"Date\",\"open_price\":\"open\",\"high_price\":\"high\",\"low_price\":\"low\",\"close_price\":\"Close\"}, inplace= True)"
   ]
  },
  {
   "cell_type": "code",
   "execution_count": 91,
   "metadata": {},
   "outputs": [
    {
     "name": "stdout",
     "output_type": "stream",
     "text": [
      "            Date  Close\n",
      "0     2016-01-04  12600\n",
      "1     2016-01-05  12300\n",
      "2     2016-01-06  12800\n",
      "3     2016-01-07  12600\n",
      "4     2016-01-08  12600\n",
      "...          ...    ...\n",
      "1722  2022-11-21  16700\n",
      "1723  2022-11-22  16900\n",
      "1724  2022-11-23  17500\n",
      "1725  2022-11-24  18200\n",
      "1726  2022-11-25  18900\n",
      "\n",
      "[1727 rows x 2 columns]\n",
      "Shape of close dataframe: (1727, 2)\n",
      "(1727, 1)\n"
     ]
    }
   ],
   "source": [
    "from sklearn.preprocessing import MinMaxScaler\n",
    "closedf = data[['Date','Close']]\n",
    "print(closedf)\n",
    "print(\"Shape of close dataframe:\", closedf.shape)\n",
    "close_stock = closedf.copy()\n",
    "del closedf['Date']\n",
    "scaler=MinMaxScaler(feature_range=(0,1))\n",
    "closedf=scaler.fit_transform(np.array(closedf).reshape(-1,1))\n",
    "print(closedf.shape)\n",
    "time_step = 20"
   ]
  },
  {
   "cell_type": "code",
   "execution_count": 92,
   "metadata": {},
   "outputs": [
    {
     "name": "stdout",
     "output_type": "stream",
     "text": [
      "train_data:  (1381, 1)\n",
      "test_data:  (346, 1)\n"
     ]
    },
    {
     "data": {
      "text/plain": [
       "array([[0.18563923],\n",
       "       [0.17513135],\n",
       "       [0.19264448],\n",
       "       ...,\n",
       "       [0.80210158],\n",
       "       [0.76357268],\n",
       "       [0.73905429]])"
      ]
     },
     "execution_count": 92,
     "metadata": {},
     "output_type": "execute_result"
    }
   ],
   "source": [
    "training_size=int(len(closedf)*0.8)\n",
    "test_size=len(closedf)-training_size\n",
    "train_data,test_data=closedf[0:training_size,:],closedf[training_size:len(closedf),:1]\n",
    "print(\"train_data: \", train_data.shape)\n",
    "print(\"test_data: \", test_data.shape)\n",
    "train_data"
   ]
  },
  {
   "cell_type": "code",
   "execution_count": 93,
   "metadata": {},
   "outputs": [],
   "source": [
    "# convert an array of values into a dataset matrix\n",
    "def create_dataset(dataset, time_step=1):\n",
    "    dataX, dataY = [], []\n",
    "    for i in range(len(dataset)-time_step-1):\n",
    "        a = dataset[i:(i+time_step), 0]   ###i=0, 0,1,2,3-----99   100 \n",
    "        dataX.append(a)\n",
    "        dataY.append(dataset[i + time_step, 0])\n",
    "    return np.array(dataX), np.array(dataY)\n"
   ]
  },
  {
   "cell_type": "code",
   "execution_count": 94,
   "metadata": {},
   "outputs": [
    {
     "name": "stdout",
     "output_type": "stream",
     "text": [
      "(346, 1)\n",
      "X_train:  (1370, 10)\n",
      "y_train:  (1370,)\n",
      "X_test:  (335, 10)\n",
      "y_test (335,)\n"
     ]
    }
   ],
   "source": [
    "# reshape into X=t,t+1,t+2,t+3 and Y=t+4\n",
    "time_step = 10\n",
    "X_train, y_train = create_dataset(train_data, time_step)\n",
    "X_test, y_test = create_dataset(test_data, time_step)\n",
    "print(test_data.shape)\n",
    "print(\"X_train: \", X_train.shape)\n",
    "print(\"y_train: \", y_train.shape)\n",
    "print(\"X_test: \", X_test.shape)\n",
    "print(\"y_test\", y_test.shape)"
   ]
  },
  {
   "cell_type": "code",
   "execution_count": 95,
   "metadata": {},
   "outputs": [],
   "source": [
    "class Node:\n",
    "    def __init__(self, split_feature=None, split_value=None, left=None, right=None, prediction=None, is_leaf=False):\n",
    "        self.split_feature = split_feature\n",
    "        self.split_value = split_value\n",
    "        self.left = left\n",
    "        self.right = right\n",
    "        self.prediction = prediction\n",
    "        self.is_leaf = is_leaf"
   ]
  },
  {
   "cell_type": "code",
   "execution_count": 96,
   "metadata": {},
   "outputs": [],
   "source": [
    "class DecisionTreeRegressor:\n",
    "    def __init__(self, max_depth=None, min_samples_split=2, min_samples_leaf=1, max_features=None):\n",
    "        self.max_depth = max_depth\n",
    "        self.min_samples_split = min_samples_split\n",
    "        self.min_samples_leaf = min_samples_leaf\n",
    "        self.max_features = max_features\n",
    "        self.tree = None\n",
    "        \n",
    "    def fit(self, X, y):\n",
    "        self.tree = self._build_tree(X, y)\n",
    "        \n",
    "    def predict(self, X):\n",
    "        return np.array([self._traverse_tree(x, self.tree) for x in X])\n",
    "    \n",
    "    def _build_tree(self, X, y, depth=0):\n",
    "        node = Node()\n",
    "        \n",
    "        if depth == self.max_depth or len(X) < self.min_samples_split or len(np.unique(y)) == 1:\n",
    "            node.is_leaf = True\n",
    "            node.prediction = np.mean(y)\n",
    "            return node\n",
    "        \n",
    "        split_feature, split_value = self._find_best_split(X, y)\n",
    "        \n",
    "        if split_feature is None:\n",
    "            node.is_leaf = True\n",
    "            node.prediction = np.mean(y)\n",
    "            return node\n",
    "        \n",
    "        left_indices = X[:, split_feature] <= split_value\n",
    "        right_indices = X[:, split_feature] > split_value\n",
    "\n",
    "        node.split_feature = split_feature\n",
    "        node.split_value = split_value\n",
    "\n",
    "        node.left = self._build_tree(X[left_indices], y[left_indices], depth + 1)\n",
    "        node.right = self._build_tree(X[right_indices], y[right_indices], depth + 1)\n",
    "\n",
    "        return node\n",
    "    \n",
    "    # change the way to find best split\n",
    "    def _find_best_split(self, X, y):\n",
    "        best_score = float('inf')\n",
    "        best_feature = None\n",
    "        best_value = None\n",
    "        \n",
    "        n_features = X.shape[1]\n",
    "        if self.max_features is not None and self.max_features < n_features:\n",
    "            feature_indices = np.random.choice(n_features, size=self.max_features, replace=False)\n",
    "        else:\n",
    "            feature_indices = np.arange(n_features)\n",
    "        \n",
    "        for feature in feature_indices:\n",
    "            values = np.unique(X[:, feature])\n",
    "            for value in values:\n",
    "                left_indices = X[:, feature] <= value\n",
    "                right_indices = X[:, feature] > value\n",
    "                score = self._calculate_split_score(y, left_indices, right_indices)\n",
    "                \n",
    "                if score < best_score:\n",
    "                    best_score = score\n",
    "                    best_feature = feature\n",
    "                    best_value = value\n",
    "        \n",
    "        return best_feature, best_value\n",
    "    \n",
    "    def _calculate_split_score(self, y, left_indices, right_indices):\n",
    "        left_y = y[left_indices]\n",
    "        right_y = y[right_indices]\n",
    "        \n",
    "        left_score = self._calculate_variance(left_y)\n",
    "        right_score = self._calculate_variance(right_y)\n",
    "        \n",
    "        n_left = len(left_y)\n",
    "        n_right = len(right_y)\n",
    "        total_samples = n_left + n_right\n",
    "        \n",
    "        split_score = (n_left / total_samples) * left_score + (n_right / total_samples) * right_score\n",
    "        return split_score\n",
    "    \n",
    "    def _calculate_variance(self, y):\n",
    "        if len(y) == 0:\n",
    "            return 0.0\n",
    "        mean = np.mean(y)\n",
    "        variance = np.mean((y - mean) ** 2)\n",
    "        return variance\n",
    "    \n",
    "    def _traverse_tree(self, x, node):\n",
    "        if node.is_leaf:\n",
    "            return node.prediction\n",
    "        else:\n",
    "            if x[node.split_feature] <= node.split_value:\n",
    "                return self._traverse_tree(x, node.left)\n",
    "            else:\n",
    "                return self._traverse_tree(x, node.right)"
   ]
  },
  {
   "cell_type": "code",
   "execution_count": 97,
   "metadata": {},
   "outputs": [],
   "source": [
    "import numpy as np\n",
    "\n",
    "class RandomForestRegressor:\n",
    "    def __init__(self, n_estimators=10, max_depth=None, min_samples_split=2, min_samples_leaf=1, max_features=None, subsample_ratio=0.8):\n",
    "        self.n_estimators = n_estimators\n",
    "        self.max_depth = max_depth\n",
    "        self.min_samples_split = min_samples_split\n",
    "        self.min_samples_leaf = min_samples_leaf\n",
    "        self.max_features = max_features\n",
    "        self.subsample_ratio = subsample_ratio\n",
    "        self.trees = []\n",
    "        \n",
    "    def fit(self, X, y):\n",
    "        n_samples = len(X)\n",
    "        n_subsample = int(self.subsample_ratio * n_samples)\n",
    "        \n",
    "        for i in range(self.n_estimators):\n",
    "            # compare Subsampling with Replacement and Subsampling without Replacement (unaccomplished, can test both methods \n",
    "            # with or without optuna for subsample_ratio, recommended use cross_val_score to be the target function for optuna)\n",
    "            # (need to find more method?) \n",
    "            subsample_indices = np.random.choice(n_samples, size=n_subsample, replace=False) # Subsampling with Replacement\n",
    "            # subsample_indices = np.random.choice(n_samples, size=n_subsample, replace=True) # Subsampling without Replacement\n",
    "            subsample_X = X[subsample_indices]\n",
    "            subsample_y = y[subsample_indices]\n",
    "            \n",
    "            tree = DecisionTreeRegressor(max_depth=self.max_depth, min_samples_split=self.min_samples_split, \n",
    "                                          min_samples_leaf=self.min_samples_leaf, max_features=self.max_features)\n",
    "            tree.fit(subsample_X, subsample_y)\n",
    "            self.trees.append(tree)\n",
    "            \n",
    "    def predict(self, X):\n",
    "        return np.mean([tree.predict(X) for tree in self.trees], axis=0)"
   ]
  },
  {
   "cell_type": "code",
   "execution_count": 98,
   "metadata": {},
   "outputs": [],
   "source": [
    "from sklearn.model_selection import KFold\n",
    "import time\n",
    "import psutil\n",
    "\n",
    "# cross validation\n",
    "# evaluate performance of model, can be used to be the target function in optuna\n",
    "# ref: from sklearn.model_selection import cross_val_score\n",
    "def cross_val_score(estimator, X, y, cv=5, scoring=None):\n",
    "    scores = []\n",
    "    \n",
    "    # scoring: target function, if not provided it will be r2\n",
    "    if scoring is None:\n",
    "        scoring = r2_score\n",
    "    \n",
    "    cv_splitter = KFold(n_splits=cv, shuffle=True)\n",
    "    \n",
    "    for train_indices, test_indices in cv_splitter.split(X):\n",
    "        X_train, X_test = X[train_indices], X[test_indices]\n",
    "        y_train, y_test = y[train_indices], y[test_indices]\n",
    "        \n",
    "        estimator.fit(X_train, y_train)\n",
    "        y_pred = estimator.predict(X_test)\n",
    "        \n",
    "        score = scoring(y_test, y_pred)\n",
    "        scores.append(score)\n",
    "    \n",
    "    return np.mean(scores) # return average score of `cv` times run\n",
    "\n",
    "\n",
    "def r2_score(y_true, y_pred):\n",
    "    numerator = np.sum((y_true - y_pred) ** 2)\n",
    "    denominator = np.sum((y_true - np.mean(y_true)) ** 2)\n",
    "    r2 = 1 - (numerator / denominator)\n",
    "    return r2\n",
    "\n",
    "def measure_system_metrics():\n",
    "    cpu_percent = psutil.cpu_percent()\n",
    "    memory_usage = psutil.virtual_memory().percent\n",
    "    disk_usage = psutil.disk_usage('/').percent\n",
    "    network_io = psutil.net_io_counters()\n",
    "    \n",
    "    return cpu_percent, memory_usage, disk_usage, network_io"
   ]
  },
  {
   "cell_type": "code",
   "execution_count": 99,
   "metadata": {},
   "outputs": [
    {
     "name": "stderr",
     "output_type": "stream",
     "text": [
      "[I 2023-06-03 14:34:59,536] A new study created in memory with name: no-name-0783f315-5c04-4811-84c1-57969f40cf45\n",
      "[I 2023-06-03 15:06:28,075] Trial 0 finished with value: 0.9933777791344143 and parameters: {'n_estimators': 883, 'max_depth': 5, 'min_samples_split': 3, 'min_samples_leaf': 10, 'max_features': 6, 'subsample_ratio': 96}. Best is trial 0 with value: 0.9933777791344143.\n",
      "[I 2023-06-03 16:54:00,165] Trial 1 finished with value: 0.9964747267463385 and parameters: {'n_estimators': 897, 'max_depth': 12, 'min_samples_split': 4, 'min_samples_leaf': 5, 'max_features': 9, 'subsample_ratio': 84}. Best is trial 1 with value: 0.9964747267463385.\n",
      "[I 2023-06-03 17:10:51,659] Trial 2 finished with value: 0.9944179967704091 and parameters: {'n_estimators': 561, 'max_depth': 15, 'min_samples_split': 9, 'min_samples_leaf': 10, 'max_features': 3, 'subsample_ratio': 69}. Best is trial 1 with value: 0.9964747267463385.\n",
      "[I 2023-06-03 17:46:29,164] Trial 3 finished with value: 0.9962181143487887 and parameters: {'n_estimators': 883, 'max_depth': 24, 'min_samples_split': 5, 'min_samples_leaf': 8, 'max_features': 3, 'subsample_ratio': 90}. Best is trial 1 with value: 0.9964747267463385.\n",
      "[I 2023-06-03 18:16:08,310] Trial 4 finished with value: 0.9955122273924856 and parameters: {'n_estimators': 816, 'max_depth': 12, 'min_samples_split': 7, 'min_samples_leaf': 2, 'max_features': 4, 'subsample_ratio': 76}. Best is trial 1 with value: 0.9964747267463385.\n"
     ]
    }
   ],
   "source": [
    "from sklearn.metrics import mean_squared_error\n",
    "import optuna\n",
    "\n",
    "# Define the objective function for Optuna\n",
    "def objective(trial):\n",
    "    n_estimators = trial.suggest_int('n_estimators', 100, 1000)\n",
    "    max_depth = trial.suggest_int('max_depth', 5, 30)\n",
    "    min_samples_split = trial.suggest_int('min_samples_split', 2, 10)\n",
    "    min_samples_leaf = trial.suggest_int('min_samples_leaf', 1, 10)\n",
    "    max_features = trial.suggest_int(\"max_features\", 1, X_train.shape[1])\n",
    "    subsample_ratio = trial.suggest_int(\"subsample_ratio\", 50, 100)\n",
    "\n",
    "    # max_features = int(max_features * X_train.shape[1])\n",
    "    subsample_ratio = subsample_ratio / 100\n",
    "    model = RandomForestRegressor(\n",
    "        n_estimators=n_estimators,\n",
    "        max_depth=max_depth,\n",
    "        min_samples_split=min_samples_split,\n",
    "        min_samples_leaf=min_samples_leaf,\n",
    "        max_features=max_features,\n",
    "        subsample_ratio=subsample_ratio\n",
    "    )\n",
    "\n",
    "    scores = cross_val_score(model, X_train, y_train, cv=5)\n",
    "\n",
    "    return scores\n",
    "\n",
    "# Use Optuna to optimize hyperparameters\n",
    "study = optuna.create_study(direction='maximize', sampler=optuna.samplers.TPESampler())\n",
    "study.optimize(objective, n_trials=5)\n",
    "best_params = study.best_params\n",
    "\n",
    "rf = RandomForestRegressor(**best_params)"
   ]
  },
  {
   "cell_type": "code",
   "execution_count": 100,
   "metadata": {},
   "outputs": [
    {
     "ename": "ValueError",
     "evalue": "Cannot take a larger sample than population when 'replace=False'",
     "output_type": "error",
     "traceback": [
      "\u001b[1;31m---------------------------------------------------------------------------\u001b[0m",
      "\u001b[1;31mValueError\u001b[0m                                Traceback (most recent call last)",
      "Cell \u001b[1;32mIn[100], line 3\u001b[0m\n\u001b[0;32m      1\u001b[0m start_time \u001b[39m=\u001b[39m time\u001b[39m.\u001b[39mtime()\n\u001b[1;32m----> 3\u001b[0m scores \u001b[39m=\u001b[39m cross_val_score(rf, X_train, y_train, cv\u001b[39m=\u001b[39;49m\u001b[39m5\u001b[39;49m)\n\u001b[0;32m      4\u001b[0m \u001b[39mprint\u001b[39m(\u001b[39m\"\u001b[39m\u001b[39mCross-validated my model r2:\u001b[39m\u001b[39m\"\u001b[39m, scores)\n\u001b[0;32m      5\u001b[0m end_time \u001b[39m=\u001b[39m time\u001b[39m.\u001b[39mtime()\n",
      "Cell \u001b[1;32mIn[98], line 21\u001b[0m, in \u001b[0;36mcross_val_score\u001b[1;34m(estimator, X, y, cv, scoring)\u001b[0m\n\u001b[0;32m     18\u001b[0m X_train, X_test \u001b[39m=\u001b[39m X[train_indices], X[test_indices]\n\u001b[0;32m     19\u001b[0m y_train, y_test \u001b[39m=\u001b[39m y[train_indices], y[test_indices]\n\u001b[1;32m---> 21\u001b[0m estimator\u001b[39m.\u001b[39;49mfit(X_train, y_train)\n\u001b[0;32m     22\u001b[0m y_pred \u001b[39m=\u001b[39m estimator\u001b[39m.\u001b[39mpredict(X_test)\n\u001b[0;32m     24\u001b[0m score \u001b[39m=\u001b[39m scoring(y_test, y_pred)\n",
      "Cell \u001b[1;32mIn[97], line 21\u001b[0m, in \u001b[0;36mRandomForestRegressor.fit\u001b[1;34m(self, X, y)\u001b[0m\n\u001b[0;32m     15\u001b[0m n_subsample \u001b[39m=\u001b[39m \u001b[39mint\u001b[39m(\u001b[39mself\u001b[39m\u001b[39m.\u001b[39msubsample_ratio \u001b[39m*\u001b[39m n_samples)\n\u001b[0;32m     17\u001b[0m \u001b[39mfor\u001b[39;00m i \u001b[39min\u001b[39;00m \u001b[39mrange\u001b[39m(\u001b[39mself\u001b[39m\u001b[39m.\u001b[39mn_estimators):\n\u001b[0;32m     18\u001b[0m     \u001b[39m# compare Subsampling with Replacement and Subsampling without Replacement (unaccomplished, can test both methods \u001b[39;00m\n\u001b[0;32m     19\u001b[0m     \u001b[39m# with or without optuna for subsample_ratio, recommended use cross_val_score to be the target function for optuna)\u001b[39;00m\n\u001b[0;32m     20\u001b[0m     \u001b[39m# (need to find more method?) \u001b[39;00m\n\u001b[1;32m---> 21\u001b[0m     subsample_indices \u001b[39m=\u001b[39m np\u001b[39m.\u001b[39;49mrandom\u001b[39m.\u001b[39;49mchoice(n_samples, size\u001b[39m=\u001b[39;49mn_subsample, replace\u001b[39m=\u001b[39;49m\u001b[39mFalse\u001b[39;49;00m) \u001b[39m# Subsampling with Replacement\u001b[39;00m\n\u001b[0;32m     22\u001b[0m     \u001b[39m# subsample_indices = np.random.choice(n_samples, size=n_subsample, replace=True) # Subsampling without Replacement\u001b[39;00m\n\u001b[0;32m     23\u001b[0m     subsample_X \u001b[39m=\u001b[39m X[subsample_indices]\n",
      "File \u001b[1;32mmtrand.pyx:984\u001b[0m, in \u001b[0;36mnumpy.random.mtrand.RandomState.choice\u001b[1;34m()\u001b[0m\n",
      "\u001b[1;31mValueError\u001b[0m: Cannot take a larger sample than population when 'replace=False'"
     ]
    }
   ],
   "source": [
    "start_time = time.time()\n",
    "\n",
    "scores = cross_val_score(rf, X_train, y_train, cv=5)\n",
    "print(\"Cross-validated my model r2:\", scores)\n",
    "end_time = time.time()\n",
    "\n",
    "# Measure system metrics after code execution\n",
    "cpu_percent, memory_usage, disk_usage, network_io = measure_system_metrics()\n",
    "\n",
    "execution_time = end_time - start_time\n",
    "\n",
    "print(f\"Execution time: {execution_time} seconds\")\n",
    "print(f\"CPU usage: {cpu_percent}%\")\n",
    "print(f\"Memory usage: {memory_usage}%\")\n",
    "print(f\"Disk usage: {disk_usage}%\")\n",
    "print(f\"Network I/O: {network_io}\")\n",
    "\n",
    "rf.fit(X_train, y_train)"
   ]
  },
  {
   "cell_type": "code",
   "execution_count": null,
   "metadata": {},
   "outputs": [
    {
     "name": "stdout",
     "output_type": "stream",
     "text": [
      "Train data prediction: (1370, 1)\n",
      "Test data prediction: (335, 1)\n"
     ]
    }
   ],
   "source": [
    "# Lets Do the prediction \n",
    "\n",
    "RF_train_predict=rf.predict(X_train)\n",
    "RF_test_predict=rf.predict(X_test)\n",
    "# print(\"Train data prediction:\", train_predict)\n",
    "# # print(\"Test data prediction:\", test_predict)\n",
    "RF_train_predict = RF_train_predict.reshape(-1,1)\n",
    "RF_test_predict = RF_test_predict.reshape(-1,1)\n",
    "\n",
    "print(\"Train data prediction:\", RF_train_predict.shape)\n",
    "print(\"Test data prediction:\", RF_test_predict.shape)"
   ]
  },
  {
   "cell_type": "code",
   "execution_count": null,
   "metadata": {},
   "outputs": [],
   "source": [
    "# Transform back to original form\n",
    "\n",
    "RF_train_predict = scaler.inverse_transform(RF_train_predict)\n",
    "RF_test_predict = scaler.inverse_transform(RF_test_predict)\n",
    "RF_original_ytrain = scaler.inverse_transform(y_train.reshape(-1,1)) \n",
    "RF_original_ytest = scaler.inverse_transform(y_test.reshape(-1,1)) "
   ]
  },
  {
   "cell_type": "code",
   "execution_count": null,
   "metadata": {},
   "outputs": [
    {
     "name": "stdout",
     "output_type": "stream",
     "text": [
      "Train data RMSE:  228.0077113025181\n",
      "Train data MSE:  51987.516413412435\n",
      "Test data MAE:  145.9674526054342\n",
      "-------------------------------------------------------------------------------------\n",
      "Test data RMSE:  2155.9611616742995\n",
      "Test data MSE:  4648168.530647995\n",
      "Test data MAE:  1741.3198556449015\n"
     ]
    }
   ],
   "source": [
    "# Evaluation metrices RMSE and MAE\n",
    "RF_RMSE_train = math.sqrt(mean_squared_error(RF_original_ytrain,RF_train_predict))\n",
    "RF_MSE_train = mean_squared_error(RF_original_ytrain,RF_train_predict)\n",
    "RF_MAE_train = mean_absolute_error(RF_original_ytrain,RF_train_predict)\n",
    "\n",
    "RF_RMSE_test = math.sqrt(mean_squared_error(RF_original_ytest,RF_test_predict))\n",
    "RF_MSE_test = mean_squared_error(RF_original_ytest,RF_test_predict)\n",
    "RF_MAE_test = mean_absolute_error(RF_original_ytest,RF_test_predict)\n",
    "\n",
    "print(\"Train data RMSE: \", RF_RMSE_train)\n",
    "print(\"Train data MSE: \", RF_MSE_train)\n",
    "print(\"Test data MAE: \", RF_MAE_train)\n",
    "print(\"-------------------------------------------------------------------------------------\")\n",
    "print(\"Test data RMSE: \", RF_RMSE_test)\n",
    "print(\"Test data MSE: \", RF_MSE_test)\n",
    "print(\"Test data MAE: \", RF_MAE_test)"
   ]
  },
  {
   "cell_type": "code",
   "execution_count": null,
   "metadata": {},
   "outputs": [
    {
     "name": "stdout",
     "output_type": "stream",
     "text": [
      "Train data explained variance regression score: 0.9969301664593673\n",
      "Test data explained variance regression score: 0.8502256903836056\n"
     ]
    }
   ],
   "source": [
    "RF_EV_train = explained_variance_score(RF_original_ytrain, RF_train_predict)\n",
    "RF_EV_test = explained_variance_score(RF_original_ytest, RF_test_predict)\n",
    "\n",
    "print(\"Train data explained variance regression score:\", RF_EV_train)\n",
    "print(\"Test data explained variance regression score:\", RF_EV_test)"
   ]
  },
  {
   "cell_type": "code",
   "execution_count": null,
   "metadata": {},
   "outputs": [
    {
     "name": "stdout",
     "output_type": "stream",
     "text": [
      "Train data R2 score: 0.9969265159949193\n",
      "Test data R2 score: 0.8255519856823164\n"
     ]
    }
   ],
   "source": [
    "RF_r2_train = r2_score(RF_original_ytrain, RF_train_predict)\n",
    "RF_r2_test = r2_score(RF_original_ytest, RF_test_predict)\n",
    "\n",
    "print(\"Train data R2 score:\", RF_r2_train)\n",
    "print(\"Test data R2 score:\", RF_r2_test)"
   ]
  },
  {
   "cell_type": "code",
   "execution_count": null,
   "metadata": {},
   "outputs": [
    {
     "name": "stdout",
     "output_type": "stream",
     "text": [
      "Train data MGD:  0.00023870773808578152\n",
      "Test data MGD:  0.006251140836467672\n",
      "----------------------------------------------------------------------\n",
      "Train data MPD:  3.288647083773284\n",
      "Test data MPD:  168.66336126255277\n"
     ]
    }
   ],
   "source": [
    "RF_MGD_train = mean_gamma_deviance(RF_original_ytrain, RF_train_predict)\n",
    "RF_MGD_test = mean_gamma_deviance(RF_original_ytest, RF_test_predict)\n",
    "RF_MPD_train = mean_poisson_deviance(RF_original_ytrain, RF_train_predict)\n",
    "RF_MPD_test = mean_poisson_deviance(RF_original_ytest, RF_test_predict)\n",
    "print(\"Train data MGD: \", RF_MGD_train)\n",
    "print(\"Test data MGD: \", RF_MGD_test)\n",
    "print(\"----------------------------------------------------------------------\")\n",
    "print(\"Train data MPD: \", RF_MPD_train)\n",
    "print(\"Test data MPD: \",RF_MPD_test)"
   ]
  },
  {
   "cell_type": "code",
   "execution_count": null,
   "metadata": {},
   "outputs": [
    {
     "name": "stdout",
     "output_type": "stream",
     "text": [
      "(1370, 1)\n",
      "(335, 1)\n",
      "1727\n",
      "Train predicted data:  [[nan]\n",
      " [nan]\n",
      " [nan]\n",
      " ...\n",
      " [nan]\n",
      " [nan]\n",
      " [nan]]\n",
      "Test predicted data:  [[           nan]\n",
      " [           nan]\n",
      " [           nan]\n",
      " ...\n",
      " [16788.74237351]\n",
      " [17196.32268932]\n",
      " [           nan]]\n"
     ]
    },
    {
     "ename": "ValueError",
     "evalue": "Mime type rendering requires nbformat>=4.2.0 but it is not installed",
     "output_type": "error",
     "traceback": [
      "\u001b[1;31m---------------------------------------------------------------------------\u001b[0m",
      "\u001b[1;31mValueError\u001b[0m                                Traceback (most recent call last)",
      "Cell \u001b[1;32mIn[70], line 39\u001b[0m\n\u001b[0;32m     37\u001b[0m fig\u001b[39m.\u001b[39mupdate_xaxes(showgrid\u001b[39m=\u001b[39m\u001b[39mFalse\u001b[39;00m)\n\u001b[0;32m     38\u001b[0m fig\u001b[39m.\u001b[39mupdate_yaxes(showgrid\u001b[39m=\u001b[39m\u001b[39mFalse\u001b[39;00m)\n\u001b[1;32m---> 39\u001b[0m fig\u001b[39m.\u001b[39;49mshow()\n",
      "File \u001b[1;32mc:\\Users\\USER PC\\AppData\\Local\\Programs\\Python\\Python310\\lib\\site-packages\\plotly\\basedatatypes.py:3390\u001b[0m, in \u001b[0;36mBaseFigure.show\u001b[1;34m(self, *args, **kwargs)\u001b[0m\n\u001b[0;32m   3357\u001b[0m \u001b[39m\u001b[39m\u001b[39m\"\"\"\u001b[39;00m\n\u001b[0;32m   3358\u001b[0m \u001b[39mShow a figure using either the default renderer(s) or the renderer(s)\u001b[39;00m\n\u001b[0;32m   3359\u001b[0m \u001b[39mspecified by the renderer argument\u001b[39;00m\n\u001b[1;32m   (...)\u001b[0m\n\u001b[0;32m   3386\u001b[0m \u001b[39mNone\u001b[39;00m\n\u001b[0;32m   3387\u001b[0m \u001b[39m\"\"\"\u001b[39;00m\n\u001b[0;32m   3388\u001b[0m \u001b[39mimport\u001b[39;00m \u001b[39mplotly\u001b[39;00m\u001b[39m.\u001b[39;00m\u001b[39mio\u001b[39;00m \u001b[39mas\u001b[39;00m \u001b[39mpio\u001b[39;00m\n\u001b[1;32m-> 3390\u001b[0m \u001b[39mreturn\u001b[39;00m pio\u001b[39m.\u001b[39mshow(\u001b[39mself\u001b[39m, \u001b[39m*\u001b[39margs, \u001b[39m*\u001b[39m\u001b[39m*\u001b[39mkwargs)\n",
      "File \u001b[1;32mc:\\Users\\USER PC\\AppData\\Local\\Programs\\Python\\Python310\\lib\\site-packages\\plotly\\io\\_renderers.py:396\u001b[0m, in \u001b[0;36mshow\u001b[1;34m(fig, renderer, validate, **kwargs)\u001b[0m\n\u001b[0;32m    391\u001b[0m         \u001b[39mraise\u001b[39;00m \u001b[39mValueError\u001b[39;00m(\n\u001b[0;32m    392\u001b[0m             \u001b[39m\"\u001b[39m\u001b[39mMime type rendering requires ipython but it is not installed\u001b[39m\u001b[39m\"\u001b[39m\n\u001b[0;32m    393\u001b[0m         )\n\u001b[0;32m    395\u001b[0m     \u001b[39mif\u001b[39;00m \u001b[39mnot\u001b[39;00m nbformat \u001b[39mor\u001b[39;00m Version(nbformat\u001b[39m.\u001b[39m__version__) \u001b[39m<\u001b[39m Version(\u001b[39m\"\u001b[39m\u001b[39m4.2.0\u001b[39m\u001b[39m\"\u001b[39m):\n\u001b[1;32m--> 396\u001b[0m         \u001b[39mraise\u001b[39;00m \u001b[39mValueError\u001b[39;00m(\n\u001b[0;32m    397\u001b[0m             \u001b[39m\"\u001b[39m\u001b[39mMime type rendering requires nbformat>=4.2.0 but it is not installed\u001b[39m\u001b[39m\"\u001b[39m\n\u001b[0;32m    398\u001b[0m         )\n\u001b[0;32m    400\u001b[0m     ipython_display\u001b[39m.\u001b[39mdisplay(bundle, raw\u001b[39m=\u001b[39m\u001b[39mTrue\u001b[39;00m)\n\u001b[0;32m    402\u001b[0m \u001b[39m# external renderers\u001b[39;00m\n",
      "\u001b[1;31mValueError\u001b[0m: Mime type rendering requires nbformat>=4.2.0 but it is not installed"
     ]
    }
   ],
   "source": [
    "# shift train predictions for plotting\n",
    "from itertools import cycle\n",
    "import plotly.express as px\n",
    "\n",
    "\n",
    "print(RF_train_predict.shape)\n",
    "print(RF_test_predict.shape)\n",
    "print(len(closedf))\n",
    "\n",
    "look_back=time_step\n",
    "trainPredictPlot = np.empty_like(closedf)\n",
    "trainPredictPlot[:, :] = np.nan\n",
    "trainPredictPlot[look_back:len(RF_train_predict)+look_back, :] = RF_train_predict\n",
    "print(\"Train predicted data: \", trainPredictPlot)\n",
    "\n",
    "# shift test predictions for plotting\n",
    "testPredictPlot = np.empty_like(closedf)\n",
    "testPredictPlot[:, :] = np.nan\n",
    "testPredictPlot[len(RF_train_predict)+(look_back*2)+1:len(closedf)-1, :] = RF_test_predict\n",
    "print(\"Test predicted data: \", testPredictPlot)\n",
    "\n",
    "names = cycle(['Original close price','Train predicted close price','Test predicted close price'])\n",
    "\n",
    "\n",
    "plotdf = pd.DataFrame({'date': close_stock['Date'],\n",
    "                       'original_close': close_stock['Close'],\n",
    "                      'train_predicted_close': trainPredictPlot.reshape(1,-1)[0].tolist(),\n",
    "                      'test_predicted_close': testPredictPlot.reshape(1,-1)[0].tolist()})\n",
    "\n",
    "fig = px.line(plotdf,x=plotdf['date'], y=[plotdf['original_close'],plotdf['train_predicted_close'],\n",
    "                                          plotdf['test_predicted_close']],\n",
    "              labels={'value':'Stock price','date': 'Date'})\n",
    "fig.update_layout(title_text='Comparision between original close price vs predicted close price',\n",
    "                  plot_bgcolor='white', font_size=15, font_color='black', legend_title_text='Close Price')\n",
    "fig.for_each_trace(lambda t:  t.update(name = next(names)))\n",
    "\n",
    "fig.update_xaxes(showgrid=False)\n",
    "fig.update_yaxes(showgrid=False)\n",
    "fig.show()"
   ]
  },
  {
   "cell_type": "code",
   "execution_count": null,
   "metadata": {},
   "outputs": [
    {
     "ename": "",
     "evalue": "",
     "output_type": "error",
     "traceback": [
      "\u001b[1;31mRunning cells with 'c:\\msys64\\mingw64\\bin\\python.exe' requires the ipykernel package.\n",
      "\u001b[1;31mRun the following command to install 'ipykernel' into the Python environment. \n",
      "\u001b[1;31mCommand: 'c:/msys64/mingw64/bin/python.exe -m pip install ipykernel -U --user --force-reinstall'"
     ]
    }
   ],
   "source": []
  }
 ],
 "metadata": {
  "kernelspec": {
   "display_name": "Python 3",
   "language": "python",
   "name": "python3"
  },
  "language_info": {
   "codemirror_mode": {
    "name": "ipython",
    "version": 3
   },
   "file_extension": ".py",
   "mimetype": "text/x-python",
   "name": "python",
   "nbconvert_exporter": "python",
   "pygments_lexer": "ipython3",
   "version": "3.10.4"
  },
  "orig_nbformat": 4,
  "vscode": {
   "interpreter": {
    "hash": "369f2c481f4da34e4445cda3fffd2e751bd1c4d706f27375911949ba6bb62e1c"
   }
  }
 },
 "nbformat": 4,
 "nbformat_minor": 2
}
